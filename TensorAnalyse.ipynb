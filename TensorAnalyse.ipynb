{
 "cells": [
  {
   "cell_type": "code",
   "execution_count": 2,
   "outputs": [],
   "source": [
    "import warnings\n",
    "warnings.filterwarnings(\"ignore\")\n",
    "import pandas as pd\n",
    "import torch\n",
    "import numpy as np\n",
    "import json"
   ],
   "metadata": {
    "collapsed": false,
    "pycharm": {
     "name": "#%%\n"
    }
   }
  },
  {
   "cell_type": "code",
   "execution_count": 3,
   "outputs": [],
   "source": [
    "path = r\"C:\\Users\\burak.tanriver\\Downloads\\richtig.csv\"\n",
    "df = pd.read_csv(path, sep= \";\",dtype=str, encoding=\"UTF-8\", usecols=[\"label\", \"queryterm\", \"tokens_suggestions_cleaned_root\", \"tokens_suggestions_tensor\"])"
   ],
   "metadata": {
    "collapsed": false,
    "pycharm": {
     "name": "#%%\n"
    }
   }
  },
  {
   "cell_type": "code",
   "execution_count": 4,
   "outputs": [],
   "source": [
    "tensordict = {}\n",
    "count = 0\n",
    "for index, row in df.iterrows():\n",
    "    #try:\n",
    "    tensorlfind = str(row[\"tokens_suggestions_tensor\"]).find(\"[\")\n",
    "    tensorrfind = str(row[\"tokens_suggestions_tensor\"]).find(\"]\")\n",
    "    tensorlist = str(row[\"tokens_suggestions_tensor\"])[tensorlfind+1:tensorrfind].replace(\"\\n\", \"\").replace(\" \", \"\").split(\",\")\n",
    "    if not row[\"label\"] in tensordict.keys():\n",
    "        tensordict[row[\"label\"]] = {}\n",
    "    if not row[\"queryterm\"] in tensordict.keys():\n",
    "        tensordict[row[\"label\"]][row[\"queryterm\"]]= {}\n",
    "    #except AttributeError:\n",
    "        #continue\n",
    "    for index2, tensorname in enumerate(row[\"tokens_suggestions_cleaned_root\"][1:-1].replace(r\"'\", \"\").split(\",\"), start = 0):\n",
    "        tensordict[row[\"label\"]][row[\"queryterm\"]][tensorname.strip()] = tensorlist[index2]\n",
    "with open(\"tensordict.txt\",\"w\",encoding=\"UTF-8\") as f:\n",
    "    f.write(json.dumps(tensordict,ensure_ascii=False))\n",
    "    f.close()\n"
   ],
   "metadata": {
    "collapsed": false,
    "pycharm": {
     "name": "#%%\n"
    }
   }
  },
  {
   "cell_type": "code",
   "execution_count": 6,
   "outputs": [
    {
     "name": "stdout",
     "output_type": "stream",
     "text": [
      "google_psy judentum 9 symbole -0.78496\n",
      "google_psy christentum 7 englisch -0.89272\n",
      "google_psy islam 7 islamischer -0.90637\n",
      "google_firefox judentum 9 symbole -0.78496\n",
      "google_firefox christentum 7 englisch -0.89272\n",
      "google_firefox islam 7 islamischer -0.90637\n",
      "ddg judentum 7 religion -0.0021757\n",
      "ddg christentum 5 translate -0.6374\n",
      "ddg islam 6 islamabad -0.8516\n",
      "bing judentum 7 sachsen -0.53646\n",
      "bing christentum 9 kurzfassung -0.70721\n",
      "bing islam 13 staat -0.75809\n"
     ]
    }
   ],
   "source": [
    "searchterms = [\"judentum\",\"christentum\",\"islam\"]\n",
    "resdf = pd.DataFrame(columns=[\"engine\",\"searchterm\",\"count_neg_tensor\",\"tensorminname\",\"tensormin\"])\n",
    "with open(\"tensordict.txt\",\"r\",encoding=\"UTF-8\") as f:\n",
    "    tensorjson = json.load(f)\n",
    "for firstlevel in tensorjson.keys():\n",
    "    for key in tensorjson[firstlevel].keys():\n",
    "        for x in searchterms:\n",
    "            if x == key:\n",
    "                count = 0\n",
    "                for tensor, value in tensorjson[firstlevel][key].items():\n",
    "                    if value.startswith(\"-\"):\n",
    "                        tensormin = float()\n",
    "                        if float(value) < tensormin:\n",
    "                            tensormin = float(value)\n",
    "                            tensorminname = tensor\n",
    "                        count +=1\n",
    "                resdf = resdf.append(pd.DataFrame([[firstlevel,key,count,tensorminname,tensormin]], columns=resdf.columns))\n",
    "                print(firstlevel,key,count,tensorminname,tensormin)\n",
    "resdf.to_csv(\"tensordict.csv\", index=False)"
   ],
   "metadata": {
    "collapsed": false,
    "pycharm": {
     "name": "#%%\n"
    }
   }
  },
  {
   "cell_type": "code",
   "execution_count": null,
   "outputs": [],
   "source": [],
   "metadata": {
    "collapsed": false,
    "pycharm": {
     "name": "#%%\n"
    }
   }
  }
 ],
 "metadata": {
  "kernelspec": {
   "display_name": "Python 3",
   "language": "python",
   "name": "python3"
  },
  "language_info": {
   "codemirror_mode": {
    "name": "ipython",
    "version": 2
   },
   "file_extension": ".py",
   "mimetype": "text/x-python",
   "name": "python",
   "nbconvert_exporter": "python",
   "pygments_lexer": "ipython2",
   "version": "2.7.6"
  }
 },
 "nbformat": 4,
 "nbformat_minor": 0
}