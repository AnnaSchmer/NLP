{
 "cells": [
  {
   "cell_type": "code",
   "execution_count": 92,
   "id": "396109f1",
   "metadata": {},
   "outputs": [],
   "source": [
    "import pandas as pd\n",
    "df = pd.read_csv(r'./richtig.csv', delimiter=\";\", error_bad_lines=False, engine ='python')"
   ]
  },
  {
   "cell_type": "code",
   "execution_count": 111,
   "id": "405134ff",
   "metadata": {},
   "outputs": [],
   "source": [
    "import re\n",
    "import string\n",
    "from germansentiment import SentimentModel\n",
    "model = SentimentModel('mdraw/german-news-sentiment-bert')\n",
    "terms = ['atheismus', 'christentum', 'islam', 'judentum', 'evangelismus', 'katholizismus']\n",
    "filterIndex = []\n",
    "#aus results.csv spalte: queryterm\n",
    "chars = re.escape(string.punctuation)\n",
    "for row in df.itertuples(index=True, name='Pandas'):\n",
    "    cleanedString = row.tokensroot.strip(\"[]',\").replace(r\",\", '').replace(r\"'\", '').split()\n",
    "    for tokensroot in cleanedString:\n",
    "        if tokensroot not in terms and row.Index not in filterIndex:\n",
    "            filterIndex.append(row.Index)\n",
    "            break;\n",
    "            \n",
    "df2 = df.drop(filterIndex)\n",
    "len(df2)\n",
    "df2['tokens_suggestions_cleaned_root_polarität'] = ''\n",
    "for row in df2.itertuples(index=True, name='Pandas'):\n",
    "    polarities = []\n",
    "    cleanedString = row.tokens_suggestions_cleaned_root.strip(\"[]',\").replace(r\",\", '').replace(r\"'\", '').split()\n",
    "    for string in cleanedString:\n",
    "        polarities.append(model.predict_sentiment(cleanedString))\n",
    "    df2.at[row.Index, 'tokens_suggestions_cleaned_root_polarität'] = polarities"
   ]
  },
  {
   "cell_type": "code",
   "execution_count": 113,
   "id": "5e3146e9",
   "metadata": {},
   "outputs": [
    {
     "data": {
      "text/plain": [
       "337      [[neutral, positive, negative, neutral, positi...\n",
       "340      [[positive, neutral, positive, positive, neutr...\n",
       "341      [[neutral, positive, neutral, neutral, positiv...\n",
       "343      [[positive, neutral, positive, positive, neutr...\n",
       "344      [[neutral, positive, negative, positive, posit...\n",
       "                               ...                        \n",
       "27007    [[neutral, positive, positive, negative, negat...\n",
       "27022    [[neutral, positive, negative, negative, negat...\n",
       "27027    [[negative, positive, negative, negative, neut...\n",
       "27033    [[positive, negative, negative, positive, nega...\n",
       "27040    [[negative, positive, negative, positive, posi...\n",
       "Name: tokens_suggestions_cleaned_root_polarität, Length: 64, dtype: object"
      ]
     },
     "execution_count": 113,
     "metadata": {},
     "output_type": "execute_result"
    }
   ],
   "source": [
    "df2['tokens_suggestions_cleaned_root_polarität']"
   ]
  },
  {
   "cell_type": "code",
   "execution_count": 115,
   "id": "67bdcc49",
   "metadata": {},
   "outputs": [
    {
     "data": {
      "text/plain": [
       "337      ['geschichte', 'feste', 'anhänger', 'religion'...\n",
       "340      ['feste', 'verbreitung', 'fasten', 'referat', ...\n",
       "341      ['geschichte', 'feste', 'verbreitung', 'religi...\n",
       "343      ['feste', 'verbreitung', 'fasten', 'referat', ...\n",
       "344      ['argumente', 'zitate', 'definition', 'anfänge...\n",
       "                               ...                        \n",
       "27007    ['geschichte', 'sprüche', 'zitate', 'makhachev...\n",
       "27022    ['geschichte', 'feste', 'steckbrief', 'english...\n",
       "27027    ['lamm', 'china', 'english', 'definition', 'be...\n",
       "27033    ['deutschland', 'glaube', 'definition', 'in', ...\n",
       "27040    ['symbol', 'prayer', 'definition', 'for', '360...\n",
       "Name: tokens_suggestions_cleaned_root, Length: 64, dtype: object"
      ]
     },
     "execution_count": 115,
     "metadata": {},
     "output_type": "execute_result"
    }
   ],
   "source": [
    "df2['tokens_suggestions_cleaned_root']"
   ]
  },
  {
   "cell_type": "code",
   "execution_count": 116,
   "id": "a9f43f44",
   "metadata": {},
   "outputs": [],
   "source": [
    "df2.to_csv('richtig2.csv', sep=';', index=False, encoding='utf-8')\n",
    "df_from_csv2 = pd.read_csv(\"richtig2.csv\", sep=';', encoding='utf-8')"
   ]
  },
  {
   "cell_type": "code",
   "execution_count": null,
   "id": "6078577e",
   "metadata": {},
   "outputs": [],
   "source": []
  }
 ],
 "metadata": {
  "kernelspec": {
   "display_name": "Python 3 (ipykernel)",
   "language": "python",
   "name": "python3"
  },
  "language_info": {
   "codemirror_mode": {
    "name": "ipython",
    "version": 3
   },
   "file_extension": ".py",
   "mimetype": "text/x-python",
   "name": "python",
   "nbconvert_exporter": "python",
   "pygments_lexer": "ipython3",
   "version": "3.9.9"
  }
 },
 "nbformat": 4,
 "nbformat_minor": 5
}
