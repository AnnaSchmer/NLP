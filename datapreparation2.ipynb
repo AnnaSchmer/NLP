{
 "cells": [
  {
   "cell_type": "markdown",
   "id": "929f9260",
   "metadata": {},
   "source": [
    "# Polarities"
   ]
  },
  {
   "cell_type": "code",
   "execution_count": null,
   "id": "396109f1",
   "metadata": {
    "pycharm": {
     "is_executing": true
    }
   },
   "outputs": [],
   "source": [
    "import pandas as pd\n",
    "df = pd.read_csv(r'./richtig.csv', delimiter=\";\", error_bad_lines=False, engine ='python')"
   ]
  },
  {
   "cell_type": "code",
   "execution_count": 30,
   "id": "405134ff",
   "metadata": {},
   "outputs": [],
   "source": [
    "import re\n",
    "import string\n",
    "from germansentiment import SentimentModel\n",
    "\n",
    "#we used Sentimentmodel to create rows: polarity_negative, polarity_neutral and polarity_positive\n",
    "#first it was created for all religions (richtig2.csv) then on all ethnics (richtig_polarities.csv)\n",
    "\n",
    "#model used to get the sentiments/polarities\n",
    "model = SentimentModel('mdraw/german-news-sentiment-bert')\n",
    "#function to create the different polarities of a pandas dataframe by iterating over every row\n",
    "def create_polarities(pandas):\n",
    "    for row in pandas.itertuples(index=True, name='Pandas'):\n",
    "        try:\n",
    "            cleanedString = re.sub(r'[\\[\\]\\'\\,]', '', row.tokens_suggestions_cleaned_root).split()\n",
    "            polarities = model.predict_sentiment(cleanedString)\n",
    "            counter = 0\n",
    "            polarity_negative = []\n",
    "            polarity_neutral = []\n",
    "            polarity_positive = []\n",
    "            for polarity in polarities:\n",
    "                if polarity == 'negative':\n",
    "                    polarity_negative.append(cleanedString[counter])\n",
    "                elif polarity == 'neutral':\n",
    "                    polarity_neutral.append(cleanedString[counter])\n",
    "                elif polarity == 'positive':\n",
    "                    polarity_positive.append(cleanedString[counter])\n",
    "                counter += 1\n",
    "            pandas.at[row.Index, 'polarity_negative'] = polarity_negative\n",
    "            pandas.at[row.Index, 'polarity_neutral'] = polarity_neutral\n",
    "            pandas.at[row.Index, 'polarity_positive'] = polarity_positive\n",
    "        except IndexError:\n",
    "            continue;\n",
    "            \n",
    "#remove every not relevant row (row.tokensroot not in terms) of the dataframe \n",
    "terms = ['atheismus', 'christentum', 'islam', 'judentum', 'evangelismus', 'katholizismus']\n",
    "filterIndex = []\n",
    "chars = re.escape(string.punctuation)\n",
    "for row in df.itertuples(index=True, name='Pandas'):\n",
    "    cleanedString = row.tokensroot.strip(\"[]',\").replace(r\",\", '').replace(r\"'\", '').split()\n",
    "    for tokensroot in cleanedString:\n",
    "        if tokensroot not in terms and row.Index not in filterIndex:\n",
    "            filterIndex.append(row.Index)\n",
    "            break;\n",
    "df2 = df.drop(filterIndex)\n",
    "\n",
    "#append the polarities to the dataframe and then run the function above to get the polarities\n",
    "df['polarity_negative'] = ''\n",
    "df['polarity_neutral'] = ''\n",
    "df['polarity_positive'] = ''\n",
    "df2['polarity_negative'] = ''\n",
    "df2['polarity_neutral'] = ''\n",
    "df2['polarity_positive'] = ''\n",
    "create_polarities(df)\n",
    "create_polarities(df2)"
   ]
  },
  {
   "cell_type": "code",
   "execution_count": 31,
   "id": "5e3146e9",
   "metadata": {},
   "outputs": [
    {
     "data": {
      "text/plain": [
       "0         [türkei, einwohner, coronavirus, syrien, flagge]\n",
       "1         [türkei, einwohner, coronavirus, syrien, flagge]\n",
       "2        [tuerkenkriege, tuerkenbundlilie, tuerkenbund,...\n",
       "3        [türkei, zurücktreten, gefangene, coronavirus,...\n",
       "4        [polemik, coronavirus, dance, polenta, polen, ...\n",
       "                               ...                        \n",
       "52459                                                     \n",
       "52460    [treue, erst, euro, wertlos, ruf, von, transla...\n",
       "52461                      [bei, massa, mond, hohl, kassa]\n",
       "52462                                                     \n",
       "52463                                                     \n",
       "Name: polarity_negative, Length: 52464, dtype: object"
      ]
     },
     "execution_count": 31,
     "metadata": {},
     "output_type": "execute_result"
    }
   ],
   "source": [
    "df['polarity_negative']"
   ]
  },
  {
   "cell_type": "code",
   "execution_count": 18,
   "id": "67bdcc49",
   "metadata": {},
   "outputs": [
    {
     "data": {
      "text/plain": [
       "337      ['geschichte', 'feste', 'anhänger', 'religion'...\n",
       "340      ['feste', 'verbreitung', 'fasten', 'referat', ...\n",
       "341      ['geschichte', 'feste', 'verbreitung', 'religi...\n",
       "343      ['feste', 'verbreitung', 'fasten', 'referat', ...\n",
       "344      ['argumente', 'zitate', 'definition', 'anfänge...\n",
       "                               ...                        \n",
       "27007    ['geschichte', 'sprüche', 'zitate', 'makhachev...\n",
       "27022    ['geschichte', 'feste', 'steckbrief', 'english...\n",
       "27027    ['lamm', 'china', 'english', 'definition', 'be...\n",
       "27033    ['deutschland', 'glaube', 'definition', 'in', ...\n",
       "27040    ['symbol', 'prayer', 'definition', 'for', '360...\n",
       "Name: tokens_suggestions_cleaned_root, Length: 64, dtype: object"
      ]
     },
     "execution_count": 18,
     "metadata": {},
     "output_type": "execute_result"
    }
   ],
   "source": [
    "df2['tokens_suggestions_cleaned_root']"
   ]
  },
  {
   "cell_type": "code",
   "execution_count": 32,
   "id": "a9f43f44",
   "metadata": {},
   "outputs": [],
   "source": [
    "#write to richtig2.csv and richtig_polarities.csv\n",
    "df2.to_csv('richtig2.csv', sep=';', index=False, encoding='utf-8')\n",
    "df.to_csv('richtig_polarities.csv', sep=';', index=False, encoding='utf-8')\n",
    "df_from_csv2 = pd.read_csv(\"richtig2.csv\", sep=';', encoding='utf-8')"
   ]
  }
 ],
 "metadata": {
  "kernelspec": {
   "display_name": "Python 3 (ipykernel)",
   "language": "python",
   "name": "python3"
  },
  "language_info": {
   "codemirror_mode": {
    "name": "ipython",
    "version": 3
   },
   "file_extension": ".py",
   "mimetype": "text/x-python",
   "name": "python",
   "nbconvert_exporter": "python",
   "pygments_lexer": "ipython3",
   "version": "3.9.9"
  }
 },
 "nbformat": 4,
 "nbformat_minor": 5
}